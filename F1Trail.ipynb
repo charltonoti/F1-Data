{
 "cells": [
  {
   "cell_type": "code",
   "execution_count": 3,
   "id": "04dc32ec",
   "metadata": {},
   "outputs": [],
   "source": [
    "import fastf1 as ff1\n",
    "from fastf1 import plotting\n",
    "from matplotlib.pyplot import figure \n",
    "import pandas as pd\n",
    "from matplotlib import pyplot as plt \n",
    "import numpy as np\n"
   ]
  },
  {
   "cell_type": "code",
   "execution_count": 4,
   "id": "345865af",
   "metadata": {
    "scrolled": true
   },
   "outputs": [
    {
     "ename": "NotADirectoryError",
     "evalue": "Cache directory does not exist! Please check for typos or create it first.",
     "output_type": "error",
     "traceback": [
      "\u001b[0;31m---------------------------------------------------------------------------\u001b[0m",
      "\u001b[0;31mNotADirectoryError\u001b[0m                        Traceback (most recent call last)",
      "\u001b[0;32m/var/folders/sv/v002sx6n7r57yl0d615d6b6c0000gn/T/ipykernel_2515/172530888.py\u001b[0m in \u001b[0;36m<module>\u001b[0;34m\u001b[0m\n\u001b[1;32m      1\u001b[0m \u001b[0mplotting\u001b[0m\u001b[0;34m.\u001b[0m\u001b[0msetup_mpl\u001b[0m\u001b[0;34m(\u001b[0m\u001b[0;34m)\u001b[0m\u001b[0;34m\u001b[0m\u001b[0;34m\u001b[0m\u001b[0m\n\u001b[1;32m      2\u001b[0m \u001b[0;34m\u001b[0m\u001b[0m\n\u001b[0;32m----> 3\u001b[0;31m \u001b[0mff1\u001b[0m\u001b[0;34m.\u001b[0m\u001b[0mCache\u001b[0m\u001b[0;34m.\u001b[0m\u001b[0menable_cache\u001b[0m\u001b[0;34m(\u001b[0m\u001b[0;34m'../cache'\u001b[0m\u001b[0;34m)\u001b[0m\u001b[0;34m\u001b[0m\u001b[0;34m\u001b[0m\u001b[0m\n\u001b[0m\u001b[1;32m      4\u001b[0m \u001b[0;34m\u001b[0m\u001b[0m\n\u001b[1;32m      5\u001b[0m \u001b[0mpd\u001b[0m\u001b[0;34m.\u001b[0m\u001b[0moptions\u001b[0m\u001b[0;34m.\u001b[0m\u001b[0mmode\u001b[0m\u001b[0;34m.\u001b[0m\u001b[0mchained_assignment\u001b[0m \u001b[0;34m=\u001b[0m \u001b[0;32mNone\u001b[0m\u001b[0;34m\u001b[0m\u001b[0;34m\u001b[0m\u001b[0m\n",
      "\u001b[0;32m~/opt/anaconda3/lib/python3.9/site-packages/fastf1/api.py\u001b[0m in \u001b[0;36menable_cache\u001b[0;34m(cls, cache_dir, ignore_version, force_renew, use_requests_cache)\u001b[0m\n\u001b[1;32m    108\u001b[0m         \"\"\"\n\u001b[1;32m    109\u001b[0m         \u001b[0;32mif\u001b[0m \u001b[0;32mnot\u001b[0m \u001b[0mos\u001b[0m\u001b[0;34m.\u001b[0m\u001b[0mpath\u001b[0m\u001b[0;34m.\u001b[0m\u001b[0mexists\u001b[0m\u001b[0;34m(\u001b[0m\u001b[0mcache_dir\u001b[0m\u001b[0;34m)\u001b[0m\u001b[0;34m:\u001b[0m\u001b[0;34m\u001b[0m\u001b[0;34m\u001b[0m\u001b[0m\n\u001b[0;32m--> 110\u001b[0;31m             \u001b[0;32mraise\u001b[0m \u001b[0mNotADirectoryError\u001b[0m\u001b[0;34m(\u001b[0m\u001b[0;34m\"Cache directory does not exist! Please check for typos or create it first.\"\u001b[0m\u001b[0;34m)\u001b[0m\u001b[0;34m\u001b[0m\u001b[0;34m\u001b[0m\u001b[0m\n\u001b[0m\u001b[1;32m    111\u001b[0m         \u001b[0mcls\u001b[0m\u001b[0;34m.\u001b[0m\u001b[0m_CACHE_DIR\u001b[0m \u001b[0;34m=\u001b[0m \u001b[0mcache_dir\u001b[0m\u001b[0;34m\u001b[0m\u001b[0;34m\u001b[0m\u001b[0m\n\u001b[1;32m    112\u001b[0m         \u001b[0mcls\u001b[0m\u001b[0;34m.\u001b[0m\u001b[0m_IGNORE_VERSION\u001b[0m \u001b[0;34m=\u001b[0m \u001b[0mignore_version\u001b[0m\u001b[0;34m\u001b[0m\u001b[0;34m\u001b[0m\u001b[0m\n",
      "\u001b[0;31mNotADirectoryError\u001b[0m: Cache directory does not exist! Please check for typos or create it first."
     ]
    }
   ],
   "source": [
    "plotting.setup_mpl()\n",
    "\n",
    "ff1.Cache.enable_cache('../cache')\n",
    "\n",
    "pd.options.mode.chained_assignment = None"
   ]
  },
  {
   "cell_type": "code",
   "execution_count": null,
   "id": "d7bad8cc",
   "metadata": {},
   "outputs": [],
   "source": [
    "race = ff1.get_session(2021, 'Monza', 'R')"
   ]
  },
  {
   "cell_type": "code",
   "execution_count": null,
   "id": "781ef4a0",
   "metadata": {},
   "outputs": [],
   "source": [
    "quali = ff1.get_session(2021, 'Monza', 'Q')"
   ]
  },
  {
   "cell_type": "code",
   "execution_count": null,
   "id": "17dab3d7",
   "metadata": {},
   "outputs": [],
   "source": [
    "laps = quali.load_laps(with_telemetry=True)"
   ]
  },
  {
   "cell_type": "code",
   "execution_count": null,
   "id": "3a2ae5f0",
   "metadata": {},
   "outputs": [],
   "source": [
    "#laps of drivers I am interested in\n",
    "\n",
    "laps_ric = laps.pick_driver('RIC')\n",
    "laps_ver = laps.pick_driver('VER')\n",
    "laps_ham = laps.pick_driver('HAM')\n",
    "laps_nor = laps.pick_driver('NOR')"
   ]
  },
  {
   "cell_type": "code",
   "execution_count": null,
   "id": "48bf231b",
   "metadata": {},
   "outputs": [],
   "source": [
    "laps_ric = laps_ric.loc[laps_ric['Stint']==1]\n",
    "laps_ver = laps_ver.loc[laps_ver['Stint']==1]\n",
    "laps_ham = laps_ham.loc[laps_ham['Stint']==1]\n",
    "laps_nor = laps_nor.loc[laps_nor['Stint']==1]"
   ]
  },
  {
   "cell_type": "code",
   "execution_count": null,
   "id": "6d537db6",
   "metadata": {},
   "outputs": [],
   "source": [
    "plt.rcParams['figure.figsize'] = [10, 6]\n",
    "\n",
    "fig, ax = plt.subplots(2)\n",
    "fig.suptitle(\"RIC vs VER opening stint comparison\")\n",
    "\n",
    "ax[0].plot(laps_ric['RaceLapNumber'], laps_ric['LapTime'], label='RIC')\n",
    "ax[0].plot(laps_ver['RaceLapNumber'], laps_ver['LapTime'], label='VER')\n",
    "ax[0].set(ylabel='Laptime', xlabel='Lap')\n",
    "ax[0].legend(loc=\"upper center\")\n",
    "\n",
    "ax[1].plot(summarized_distance_ver_ric['Lap'], summarized_distance_ver_ric['Mean'], label='Mean', color='red')\n",
    "ax[1].plot(summarized_distance_ver_ric['Lap'], summarized_distance_ver_ric['Median'], label='Median', color='grey')\n",
    "ax[1].set(ylabel='Distance (meters)', xlabel='Lap')\n",
    "ax[1].legend(loc=\"upper center\")\n",
    "\n",
    "# Hide x labels and tick labels for top plots and y ticks for right plots.\n",
    "for a in ax.flat:\n",
    "    a.label_outer()\n",
    "\n",
    "plt.show()"
   ]
  },
  {
   "cell_type": "code",
   "execution_count": null,
   "id": "4d3397b1",
   "metadata": {},
   "outputs": [],
   "source": [
    "# Get lap data\n",
    "lap_telemetry_ric = laps_ric.loc[laps_ric['RaceLapNumber']==4].get_car_data().add_distance()\n",
    "lap_telemetry_ver = laps_ver.loc[laps_ver['RaceLapNumber']==4].get_car_data().add_distance()\n",
    "\n",
    "distance_lap3 = full_distance_ver_ric.loc[full_distance_ver_ric['Lap']==3]\n",
    "distance_lap4 = full_distance_ver_ric.loc[full_distance_ver_ric['Lap']==4]\n",
    "distance_lap5 = full_distance_ver_ric.loc[full_distance_ver_ric['Lap']==5]\n",
    "distance_lap6 = full_distance_ver_ric.loc[full_distance_ver_ric['Lap']==6]"
   ]
  },
  {
   "cell_type": "code",
   "execution_count": null,
   "id": "e72a8a57",
   "metadata": {},
   "outputs": [],
   "source": [
    "# Make plot a bit bigger\n",
    "plt.rcParams['figure.figsize'] = [15, 15]\n",
    "\n",
    "fig, ax = plt.subplots(5)\n",
    "fig.suptitle(\"Fastest Race Lap Telemetry Comparison\")\n",
    "\n",
    "ax[0].title.set_text(\"Distance to RIC (m)\")\n",
    "ax[0].plot(distance_lap3['Distance'], distance_lap3['DistanceToDriverAhead'], label='Lap 3', linestyle='dotted', color='grey')\n",
    "ax[0].plot(distance_lap4['Distance'], distance_lap4['DistanceToDriverAhead'], label='Lap 4')\n",
    "ax[0].plot(distance_lap5['Distance'], distance_lap5['DistanceToDriverAhead'], label='Lap 5', linestyle='dotted', color='white')\n",
    "ax[0].plot(distance_lap6['Distance'], distance_lap6['DistanceToDriverAhead'], label='Lap 6', linestyle='dashed', color='lightgrey')\n",
    "ax[0].legend(loc=\"lower right\")\n",
    "ax[0].set(ylabel='Distance to RIC')\n",
    "\n",
    "ax[1].title.set_text(\"Lap 4 telemetry\")\n",
    "ax[1].plot(lap_telemetry_ric['Distance'], lap_telemetry_ric['Speed'], label='RIC')\n",
    "ax[1].plot(lap_telemetry_ver['Distance'], lap_telemetry_ver['Speed'], label='VER')\n",
    "ax[1].set(ylabel='Speed')\n",
    "ax[1].legend(loc=\"lower right\")\n",
    "\n",
    "ax[2].plot(lap_telemetry_ric['Distance'], lap_telemetry_ric['Throttle'], label='RIC')\n",
    "ax[2].plot(lap_telemetry_ver['Distance'], lap_telemetry_ver['Throttle'], label='VER')\n",
    "ax[2].set(ylabel='Throttle')\n",
    "\n",
    "ax[3].plot(lap_telemetry_ric['Distance'], lap_telemetry_ric['Brake'], label='RIC')\n",
    "ax[3].plot(lap_telemetry_ver['Distance'], lap_telemetry_ver['Brake'], label='VER')\n",
    "ax[3].set(ylabel='Brakes')\n",
    "\n",
    "ax[4].plot(lap_telemetry_ric['Distance'], lap_telemetry_ric['DRS'], label='RIC')\n",
    "ax[4].plot(lap_telemetry_ver['Distance'], lap_telemetry_ver['DRS'], label='VER')\n",
    "ax[4].set(ylabel='DRS')\n",
    "\n",
    "# Hide x labels and tick labels for top plots and y ticks for right plots.\n",
    "for a in ax.flat:\n",
    "    a.label_outer()\n",
    "\n",
    "plt.show()"
   ]
  }
 ],
 "metadata": {
  "kernelspec": {
   "display_name": "Python 3 (ipykernel)",
   "language": "python",
   "name": "python3"
  },
  "language_info": {
   "codemirror_mode": {
    "name": "ipython",
    "version": 3
   },
   "file_extension": ".py",
   "mimetype": "text/x-python",
   "name": "python",
   "nbconvert_exporter": "python",
   "pygments_lexer": "ipython3",
   "version": "3.9.7"
  }
 },
 "nbformat": 4,
 "nbformat_minor": 5
}
