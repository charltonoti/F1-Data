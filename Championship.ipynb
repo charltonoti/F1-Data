{
 "cells": [
  {
   "cell_type": "code",
   "execution_count": 2,
   "id": "947632bc",
   "metadata": {},
   "outputs": [],
   "source": [
    "import pandas as pd\n",
    "import numpy as np\n",
    "import random \n",
    "import requests\n",
    "import fastf1 as f1\n",
    "import seaborn as sb\n",
    "import matplotlib.pyplot as plt \n"
   ]
  },
  {
   "cell_type": "code",
   "execution_count": 3,
   "id": "d4d0e7eb",
   "metadata": {},
   "outputs": [],
   "source": [
    "def ergast_retrieve(api_endpoint: str):\n",
    "    url = f'https://ergast.com/api/f1/{api_endpoint}.json'\n",
    "    response = requests.get(url).json()\n",
    "    \n",
    "    return response['MRData']"
   ]
  },
  {
   "cell_type": "code",
   "execution_count": null,
   "id": "7f4f072b",
   "metadata": {},
   "outputs": [],
   "source": [
    "rounds = 21\n",
    "\n",
    "all_championship_standings = pd.DataFrame()\n",
    "\n",
    "driver_team_mapping = {}\n",
    "\n",
    "for i in range(1, rounds+1):\n",
    "    \n"
   ]
  }
 ],
 "metadata": {
  "kernelspec": {
   "display_name": "Python 3 (ipykernel)",
   "language": "python",
   "name": "python3"
  },
  "language_info": {
   "codemirror_mode": {
    "name": "ipython",
    "version": 3
   },
   "file_extension": ".py",
   "mimetype": "text/x-python",
   "name": "python",
   "nbconvert_exporter": "python",
   "pygments_lexer": "ipython3",
   "version": "3.9.7"
  }
 },
 "nbformat": 4,
 "nbformat_minor": 5
}
